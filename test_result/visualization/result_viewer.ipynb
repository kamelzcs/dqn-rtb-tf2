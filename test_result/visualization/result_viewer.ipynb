{
 "cells": [
  {
   "cell_type": "code",
   "execution_count": 1,
   "outputs": [
    {
     "name": "stdout",
     "output_type": "stream",
     "text": [
      "/Users/szhao/Code/ML/dqn-rtb-tf2/test_result/visualization/__file__\n",
      "/Users/szhao/Code/ML/dqn-rtb-tf2\n",
      "/Users/szhao/Code/ML/dqn-rtb-tf2/test_result/time_split_ddpg_multi_optimal\n"
     ]
    },
    {
     "ename": "FileNotFoundError",
     "evalue": "[Errno 2] No such file or directory: '/Users/szhao/Code/ML/dqn-rtb-tf2/test_result/time_split_ddpg_multi_optimal'",
     "output_type": "error",
     "traceback": [
      "\u001B[0;31m---------------------------------------------------------------------------\u001B[0m",
      "\u001B[0;31mFileNotFoundError\u001B[0m                         Traceback (most recent call last)",
      "Cell \u001B[0;32mIn[1], line 15\u001B[0m\n\u001B[1;32m     12\u001B[0m path \u001B[38;5;241m=\u001B[39m os\u001B[38;5;241m.\u001B[39mpath\u001B[38;5;241m.\u001B[39mabspath(\u001B[38;5;124m\"\u001B[39m\u001B[38;5;124m__file__\u001B[39m\u001B[38;5;124m\"\u001B[39m\u001B[38;5;241m+\u001B[39m\u001B[38;5;124m\"\u001B[39m\u001B[38;5;124m/../../time_split_ddpg_multi_optimal\u001B[39m\u001B[38;5;124m\"\u001B[39m)\n\u001B[1;32m     13\u001B[0m \u001B[38;5;28mprint\u001B[39m(path)\n\u001B[0;32m---> 15\u001B[0m results: Results\u001B[38;5;241m=\u001B[39m\u001B[43mResults\u001B[49m\u001B[38;5;241;43m.\u001B[39;49m\u001B[43mparse_file\u001B[49m\u001B[43m(\u001B[49m\u001B[43mpath\u001B[49m\u001B[43m)\u001B[49m\n\u001B[1;32m     16\u001B[0m \u001B[38;5;28mprint\u001B[39m(results\u001B[38;5;241m.\u001B[39mjson())\n",
      "File \u001B[0;32m~/miniconda3/envs/dqn-rtb-tf2/lib/python3.10/site-packages/pydantic/main.py:562\u001B[0m, in \u001B[0;36mpydantic.main.BaseModel.parse_file\u001B[0;34m()\u001B[0m\n",
      "File \u001B[0;32m~/miniconda3/envs/dqn-rtb-tf2/lib/python3.10/site-packages/pydantic/parse.py:57\u001B[0m, in \u001B[0;36mpydantic.parse.load_file\u001B[0;34m()\u001B[0m\n",
      "File \u001B[0;32m~/miniconda3/envs/dqn-rtb-tf2/lib/python3.10/pathlib.py:1126\u001B[0m, in \u001B[0;36mPath.read_bytes\u001B[0;34m(self)\u001B[0m\n\u001B[1;32m   1122\u001B[0m \u001B[38;5;28;01mdef\u001B[39;00m \u001B[38;5;21mread_bytes\u001B[39m(\u001B[38;5;28mself\u001B[39m):\n\u001B[1;32m   1123\u001B[0m     \u001B[38;5;124;03m\"\"\"\u001B[39;00m\n\u001B[1;32m   1124\u001B[0m \u001B[38;5;124;03m    Open the file in bytes mode, read it, and close the file.\u001B[39;00m\n\u001B[1;32m   1125\u001B[0m \u001B[38;5;124;03m    \"\"\"\u001B[39;00m\n\u001B[0;32m-> 1126\u001B[0m     \u001B[38;5;28;01mwith\u001B[39;00m \u001B[38;5;28;43mself\u001B[39;49m\u001B[38;5;241;43m.\u001B[39;49m\u001B[43mopen\u001B[49m\u001B[43m(\u001B[49m\u001B[43mmode\u001B[49m\u001B[38;5;241;43m=\u001B[39;49m\u001B[38;5;124;43m'\u001B[39;49m\u001B[38;5;124;43mrb\u001B[39;49m\u001B[38;5;124;43m'\u001B[39;49m\u001B[43m)\u001B[49m \u001B[38;5;28;01mas\u001B[39;00m f:\n\u001B[1;32m   1127\u001B[0m         \u001B[38;5;28;01mreturn\u001B[39;00m f\u001B[38;5;241m.\u001B[39mread()\n",
      "File \u001B[0;32m~/miniconda3/envs/dqn-rtb-tf2/lib/python3.10/pathlib.py:1119\u001B[0m, in \u001B[0;36mPath.open\u001B[0;34m(self, mode, buffering, encoding, errors, newline)\u001B[0m\n\u001B[1;32m   1117\u001B[0m \u001B[38;5;28;01mif\u001B[39;00m \u001B[38;5;124m\"\u001B[39m\u001B[38;5;124mb\u001B[39m\u001B[38;5;124m\"\u001B[39m \u001B[38;5;129;01mnot\u001B[39;00m \u001B[38;5;129;01min\u001B[39;00m mode:\n\u001B[1;32m   1118\u001B[0m     encoding \u001B[38;5;241m=\u001B[39m io\u001B[38;5;241m.\u001B[39mtext_encoding(encoding)\n\u001B[0;32m-> 1119\u001B[0m \u001B[38;5;28;01mreturn\u001B[39;00m \u001B[38;5;28;43mself\u001B[39;49m\u001B[38;5;241;43m.\u001B[39;49m\u001B[43m_accessor\u001B[49m\u001B[38;5;241;43m.\u001B[39;49m\u001B[43mopen\u001B[49m\u001B[43m(\u001B[49m\u001B[38;5;28;43mself\u001B[39;49m\u001B[43m,\u001B[49m\u001B[43m \u001B[49m\u001B[43mmode\u001B[49m\u001B[43m,\u001B[49m\u001B[43m \u001B[49m\u001B[43mbuffering\u001B[49m\u001B[43m,\u001B[49m\u001B[43m \u001B[49m\u001B[43mencoding\u001B[49m\u001B[43m,\u001B[49m\u001B[43m \u001B[49m\u001B[43merrors\u001B[49m\u001B[43m,\u001B[49m\n\u001B[1;32m   1120\u001B[0m \u001B[43m                           \u001B[49m\u001B[43mnewline\u001B[49m\u001B[43m)\u001B[49m\n",
      "\u001B[0;31mFileNotFoundError\u001B[0m: [Errno 2] No such file or directory: '/Users/szhao/Code/ML/dqn-rtb-tf2/test_result/time_split_ddpg_multi_optimal'"
     ]
    }
   ],
   "source": [
    "import os\n",
    "import sys\n",
    "print(os.path.abspath(\"__file__\"))\n",
    "module_path = os.path.abspath(os.path.abspath(\"__file__\")+\"/../../../\")\n",
    "if module_path not in sys.path:\n",
    "    sys.path.append(module_path)\n",
    "\n",
    "print(module_path)\n",
    "\n",
    "from test_result.model.Result import Results\n",
    "\n",
    "path = os.path.abspath(\"__file__\"+\"/../../time_split_ddpg_multi_optimal\")\n",
    "print(path)\n",
    "\n",
    "results: Results=Results.parse_file(path)\n",
    "print(results.json())"
   ],
   "metadata": {
    "collapsed": false
   }
  },
  {
   "cell_type": "code",
   "execution_count": null,
   "outputs": [],
   "source": [],
   "metadata": {
    "collapsed": false
   }
  },
  {
   "cell_type": "code",
   "execution_count": null,
   "outputs": [],
   "source": [],
   "metadata": {
    "collapsed": false
   }
  },
  {
   "cell_type": "code",
   "execution_count": null,
   "outputs": [],
   "source": [],
   "metadata": {
    "collapsed": false
   }
  },
  {
   "cell_type": "code",
   "execution_count": null,
   "outputs": [],
   "source": [],
   "metadata": {
    "collapsed": false
   }
  }
 ],
 "metadata": {
  "kernelspec": {
   "display_name": "Python 3",
   "language": "python",
   "name": "python3"
  },
  "language_info": {
   "codemirror_mode": {
    "name": "ipython",
    "version": 2
   },
   "file_extension": ".py",
   "mimetype": "text/x-python",
   "name": "python",
   "nbconvert_exporter": "python",
   "pygments_lexer": "ipython2",
   "version": "2.7.6"
  }
 },
 "nbformat": 4,
 "nbformat_minor": 0
}
